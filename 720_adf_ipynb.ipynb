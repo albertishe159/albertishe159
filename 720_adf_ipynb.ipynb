{
  "cells": [
    {
      "cell_type": "code",
      "execution_count": null,
      "metadata": {
        "id": "pxK9RLTfKwXB"
      },
      "outputs": [],
      "source": [
        "import pandas as pd\n",
        "import numpy as np"
      ]
    },
    {
      "cell_type": "code",
      "execution_count": null,
      "metadata": {
        "colab": {
          "base_uri": "https://localhost:8080/"
        },
        "id": "Pvg3oZmCK04z",
        "outputId": "8130443b-5b70-4bcc-ec68-a6d6a05dcb3c"
      },
      "outputs": [
        {
          "output_type": "stream",
          "name": "stdout",
          "text": [
            "Looking in indexes: https://pypi.org/simple, https://us-python.pkg.dev/colab-wheels/public/simple/\n",
            "Requirement already satisfied: binance-futures-connector in /usr/local/lib/python3.8/dist-packages (3.2.0)\n",
            "Requirement already satisfied: service-identity>=21.1.0 in /usr/local/lib/python3.8/dist-packages (from binance-futures-connector) (21.1.0)\n",
            "Requirement already satisfied: Twisted>=22.2.0 in /usr/local/lib/python3.8/dist-packages (from binance-futures-connector) (22.10.0)\n",
            "Requirement already satisfied: requests>=2.25.1 in /usr/local/lib/python3.8/dist-packages (from binance-futures-connector) (2.28.1)\n",
            "Requirement already satisfied: pyOpenSSL>=19.0.0 in /usr/local/lib/python3.8/dist-packages (from binance-futures-connector) (22.1.0)\n",
            "Requirement already satisfied: autobahn>=21.2.1 in /usr/local/lib/python3.8/dist-packages (from binance-futures-connector) (22.7.1)\n",
            "Requirement already satisfied: hyperlink>=21.0.0 in /usr/local/lib/python3.8/dist-packages (from autobahn>=21.2.1->binance-futures-connector) (21.0.0)\n",
            "Requirement already satisfied: cryptography>=3.4.6 in /usr/local/lib/python3.8/dist-packages (from autobahn>=21.2.1->binance-futures-connector) (38.0.4)\n",
            "Requirement already satisfied: txaio>=21.2.1 in /usr/local/lib/python3.8/dist-packages (from autobahn>=21.2.1->binance-futures-connector) (22.2.1)\n",
            "Requirement already satisfied: setuptools in /usr/local/lib/python3.8/dist-packages (from autobahn>=21.2.1->binance-futures-connector) (57.4.0)\n",
            "Requirement already satisfied: cffi>=1.12 in /usr/local/lib/python3.8/dist-packages (from cryptography>=3.4.6->autobahn>=21.2.1->binance-futures-connector) (1.15.1)\n",
            "Requirement already satisfied: pycparser in /usr/local/lib/python3.8/dist-packages (from cffi>=1.12->cryptography>=3.4.6->autobahn>=21.2.1->binance-futures-connector) (2.21)\n",
            "Requirement already satisfied: idna>=2.5 in /usr/local/lib/python3.8/dist-packages (from hyperlink>=21.0.0->autobahn>=21.2.1->binance-futures-connector) (2.10)\n",
            "Requirement already satisfied: urllib3<1.27,>=1.21.1 in /usr/local/lib/python3.8/dist-packages (from requests>=2.25.1->binance-futures-connector) (1.24.3)\n",
            "Requirement already satisfied: certifi>=2017.4.17 in /usr/local/lib/python3.8/dist-packages (from requests>=2.25.1->binance-futures-connector) (2022.9.24)\n",
            "Requirement already satisfied: charset-normalizer<3,>=2 in /usr/local/lib/python3.8/dist-packages (from requests>=2.25.1->binance-futures-connector) (2.1.1)\n",
            "Requirement already satisfied: pyasn1-modules in /usr/local/lib/python3.8/dist-packages (from service-identity>=21.1.0->binance-futures-connector) (0.2.8)\n",
            "Requirement already satisfied: attrs>=19.1.0 in /usr/local/lib/python3.8/dist-packages (from service-identity>=21.1.0->binance-futures-connector) (22.1.0)\n",
            "Requirement already satisfied: pyasn1 in /usr/local/lib/python3.8/dist-packages (from service-identity>=21.1.0->binance-futures-connector) (0.4.8)\n",
            "Requirement already satisfied: six in /usr/local/lib/python3.8/dist-packages (from service-identity>=21.1.0->binance-futures-connector) (1.15.0)\n",
            "Requirement already satisfied: constantly>=15.1 in /usr/local/lib/python3.8/dist-packages (from Twisted>=22.2.0->binance-futures-connector) (15.1.0)\n",
            "Requirement already satisfied: typing-extensions>=3.6.5 in /usr/local/lib/python3.8/dist-packages (from Twisted>=22.2.0->binance-futures-connector) (4.1.1)\n",
            "Requirement already satisfied: zope.interface>=4.4.2 in /usr/local/lib/python3.8/dist-packages (from Twisted>=22.2.0->binance-futures-connector) (5.5.2)\n",
            "Requirement already satisfied: incremental>=21.3.0 in /usr/local/lib/python3.8/dist-packages (from Twisted>=22.2.0->binance-futures-connector) (22.10.0)\n",
            "Requirement already satisfied: Automat>=0.8.0 in /usr/local/lib/python3.8/dist-packages (from Twisted>=22.2.0->binance-futures-connector) (22.10.0)\n"
          ]
        }
      ],
      "source": [
        "pip install binance-futures-connector"
      ]
    },
    {
      "cell_type": "code",
      "execution_count": null,
      "metadata": {
        "id": "e55Io6IYK4Uf"
      },
      "outputs": [],
      "source": [
        "from binance.um_futures import UMFutures"
      ]
    },
    {
      "cell_type": "code",
      "execution_count": null,
      "metadata": {
        "id": "0DrjCHYbK6is"
      },
      "outputs": [],
      "source": [
        "api_key = 'TDeCbbjODtRKqGJ4uTDTI2lsuvTNnTmsOaoWyyDLmdwcRzDmcZdEx4lr3fTNLbFe'\n",
        "secret = '3ug3GIoujPcepix7dGFn3OMJgzYRpV5AXgtoybKEiQLi7JJ7DleDQB1OxOvKcwU1'\n",
        "client = UMFutures(key = api_key, secret = secret)"
      ]
    },
    {
      "cell_type": "code",
      "execution_count": null,
      "metadata": {
        "id": "qaBycQ3_eE8c"
      },
      "outputs": [],
      "source": [
        "def klines1h(symbol):\n",
        "  try:\n",
        "    df = pd.DataFrame(client.klines(symbol, '4H', limit = 180))\n",
        "  except BinanceAPIException as e:\n",
        "    print(e)\n",
        "    sleep(60)\n",
        "    df = pd.DataFrame(client.klines(symbol, '4H', limit = 180))\n",
        "  df = df.iloc[:,:6]\n",
        "  df.columns = ['Time', 'Open', 'High', 'Low', 'Close', 'Volume']\n",
        "  df = df.set_index('Time')\n",
        "  df.index = pd.to_datetime(df.index, unit = 'ms')\n",
        "  df.drop(columns = ['Open', 'High', 'Low', 'Volume'], axis = 1, inplace=True)\n",
        "  df = df.astype(float)\n",
        "  return df"
      ]
    },
    {
      "cell_type": "code",
      "execution_count": null,
      "metadata": {
        "id": "_Uzt8wWDLKqu",
        "outputId": "ee59de61-0fbc-405c-cf5e-310b77bb18e2",
        "colab": {
          "base_uri": "https://localhost:8080/",
          "height": 484
        }
      },
      "outputs": [
        {
          "output_type": "error",
          "ename": "NameError",
          "evalue": "ignored",
          "traceback": [
            "\u001b[0;31m---------------------------------------------------------------------------\u001b[0m",
            "\u001b[0;31mClientError\u001b[0m                               Traceback (most recent call last)",
            "\u001b[0;32m<ipython-input-5-4f4d19064973>\u001b[0m in \u001b[0;36mklines4h\u001b[0;34m(symbol)\u001b[0m\n\u001b[1;32m      2\u001b[0m   \u001b[0;32mtry\u001b[0m\u001b[0;34m:\u001b[0m\u001b[0;34m\u001b[0m\u001b[0;34m\u001b[0m\u001b[0m\n\u001b[0;32m----> 3\u001b[0;31m     \u001b[0mdf\u001b[0m \u001b[0;34m=\u001b[0m \u001b[0mpd\u001b[0m\u001b[0;34m.\u001b[0m\u001b[0mDataFrame\u001b[0m\u001b[0;34m(\u001b[0m\u001b[0mclient\u001b[0m\u001b[0;34m.\u001b[0m\u001b[0mklines\u001b[0m\u001b[0;34m(\u001b[0m\u001b[0msymbol\u001b[0m\u001b[0;34m,\u001b[0m \u001b[0;34m'4h'\u001b[0m\u001b[0;34m,\u001b[0m \u001b[0mlimit\u001b[0m \u001b[0;34m=\u001b[0m \u001b[0;36m180\u001b[0m\u001b[0;34m)\u001b[0m\u001b[0;34m)\u001b[0m\u001b[0;34m\u001b[0m\u001b[0;34m\u001b[0m\u001b[0m\n\u001b[0m\u001b[1;32m      4\u001b[0m   \u001b[0;32mexcept\u001b[0m \u001b[0mBinanceAPIException\u001b[0m \u001b[0;32mas\u001b[0m \u001b[0me\u001b[0m\u001b[0;34m:\u001b[0m\u001b[0;34m\u001b[0m\u001b[0;34m\u001b[0m\u001b[0m\n",
            "\u001b[0;32m/usr/local/lib/python3.8/dist-packages/binance/um_futures/market.py\u001b[0m in \u001b[0;36mklines\u001b[0;34m(self, symbol, interval, **kwargs)\u001b[0m\n\u001b[1;32m    146\u001b[0m     \u001b[0mparams\u001b[0m \u001b[0;34m=\u001b[0m \u001b[0;34m{\u001b[0m\u001b[0;34m\"symbol\"\u001b[0m\u001b[0;34m:\u001b[0m \u001b[0msymbol\u001b[0m\u001b[0;34m,\u001b[0m \u001b[0;34m\"interval\"\u001b[0m\u001b[0;34m:\u001b[0m \u001b[0minterval\u001b[0m\u001b[0;34m,\u001b[0m \u001b[0;34m**\u001b[0m\u001b[0mkwargs\u001b[0m\u001b[0;34m}\u001b[0m\u001b[0;34m\u001b[0m\u001b[0;34m\u001b[0m\u001b[0m\n\u001b[0;32m--> 147\u001b[0;31m     \u001b[0;32mreturn\u001b[0m \u001b[0mself\u001b[0m\u001b[0;34m.\u001b[0m\u001b[0mquery\u001b[0m\u001b[0;34m(\u001b[0m\u001b[0;34m\"/fapi/v1/klines\"\u001b[0m\u001b[0;34m,\u001b[0m \u001b[0mparams\u001b[0m\u001b[0;34m)\u001b[0m\u001b[0;34m\u001b[0m\u001b[0;34m\u001b[0m\u001b[0m\n\u001b[0m\u001b[1;32m    148\u001b[0m \u001b[0;34m\u001b[0m\u001b[0m\n",
            "\u001b[0;32m/usr/local/lib/python3.8/dist-packages/binance/api.py\u001b[0m in \u001b[0;36mquery\u001b[0;34m(self, url_path, payload)\u001b[0m\n\u001b[1;32m     66\u001b[0m     \u001b[0;32mdef\u001b[0m \u001b[0mquery\u001b[0m\u001b[0;34m(\u001b[0m\u001b[0mself\u001b[0m\u001b[0;34m,\u001b[0m \u001b[0murl_path\u001b[0m\u001b[0;34m,\u001b[0m \u001b[0mpayload\u001b[0m\u001b[0;34m=\u001b[0m\u001b[0;32mNone\u001b[0m\u001b[0;34m)\u001b[0m\u001b[0;34m:\u001b[0m\u001b[0;34m\u001b[0m\u001b[0;34m\u001b[0m\u001b[0m\n\u001b[0;32m---> 67\u001b[0;31m         \u001b[0;32mreturn\u001b[0m \u001b[0mself\u001b[0m\u001b[0;34m.\u001b[0m\u001b[0msend_request\u001b[0m\u001b[0;34m(\u001b[0m\u001b[0;34m\"GET\"\u001b[0m\u001b[0;34m,\u001b[0m \u001b[0murl_path\u001b[0m\u001b[0;34m,\u001b[0m \u001b[0mpayload\u001b[0m\u001b[0;34m=\u001b[0m\u001b[0mpayload\u001b[0m\u001b[0;34m)\u001b[0m\u001b[0;34m\u001b[0m\u001b[0;34m\u001b[0m\u001b[0m\n\u001b[0m\u001b[1;32m     68\u001b[0m \u001b[0;34m\u001b[0m\u001b[0m\n",
            "\u001b[0;32m/usr/local/lib/python3.8/dist-packages/binance/api.py\u001b[0m in \u001b[0;36msend_request\u001b[0;34m(self, http_method, url_path, payload, special)\u001b[0m\n\u001b[1;32m    115\u001b[0m         \u001b[0mlogging\u001b[0m\u001b[0;34m.\u001b[0m\u001b[0mdebug\u001b[0m\u001b[0;34m(\u001b[0m\u001b[0;34m\"raw response from server:\"\u001b[0m \u001b[0;34m+\u001b[0m \u001b[0mresponse\u001b[0m\u001b[0;34m.\u001b[0m\u001b[0mtext\u001b[0m\u001b[0;34m)\u001b[0m\u001b[0;34m\u001b[0m\u001b[0;34m\u001b[0m\u001b[0m\n\u001b[0;32m--> 116\u001b[0;31m         \u001b[0mself\u001b[0m\u001b[0;34m.\u001b[0m\u001b[0m_handle_exception\u001b[0m\u001b[0;34m(\u001b[0m\u001b[0mresponse\u001b[0m\u001b[0;34m)\u001b[0m\u001b[0;34m\u001b[0m\u001b[0;34m\u001b[0m\u001b[0m\n\u001b[0m\u001b[1;32m    117\u001b[0m \u001b[0;34m\u001b[0m\u001b[0m\n",
            "\u001b[0;32m/usr/local/lib/python3.8/dist-packages/binance/api.py\u001b[0m in \u001b[0;36m_handle_exception\u001b[0;34m(self, response)\u001b[0m\n\u001b[1;32m    168\u001b[0m                 \u001b[0;32mraise\u001b[0m \u001b[0mClientError\u001b[0m\u001b[0;34m(\u001b[0m\u001b[0mstatus_code\u001b[0m\u001b[0;34m,\u001b[0m \u001b[0;32mNone\u001b[0m\u001b[0;34m,\u001b[0m \u001b[0mresponse\u001b[0m\u001b[0;34m.\u001b[0m\u001b[0mtext\u001b[0m\u001b[0;34m,\u001b[0m \u001b[0mresponse\u001b[0m\u001b[0;34m.\u001b[0m\u001b[0mheaders\u001b[0m\u001b[0;34m)\u001b[0m\u001b[0;34m\u001b[0m\u001b[0;34m\u001b[0m\u001b[0m\n\u001b[0;32m--> 169\u001b[0;31m             \u001b[0;32mraise\u001b[0m \u001b[0mClientError\u001b[0m\u001b[0;34m(\u001b[0m\u001b[0mstatus_code\u001b[0m\u001b[0;34m,\u001b[0m \u001b[0merr\u001b[0m\u001b[0;34m[\u001b[0m\u001b[0;34m\"code\"\u001b[0m\u001b[0;34m]\u001b[0m\u001b[0;34m,\u001b[0m \u001b[0merr\u001b[0m\u001b[0;34m[\u001b[0m\u001b[0;34m\"msg\"\u001b[0m\u001b[0;34m]\u001b[0m\u001b[0;34m,\u001b[0m \u001b[0mresponse\u001b[0m\u001b[0;34m.\u001b[0m\u001b[0mheaders\u001b[0m\u001b[0;34m)\u001b[0m\u001b[0;34m\u001b[0m\u001b[0;34m\u001b[0m\u001b[0m\n\u001b[0m\u001b[1;32m    170\u001b[0m         \u001b[0;32mraise\u001b[0m \u001b[0mServerError\u001b[0m\u001b[0;34m(\u001b[0m\u001b[0mstatus_code\u001b[0m\u001b[0;34m,\u001b[0m \u001b[0mresponse\u001b[0m\u001b[0;34m.\u001b[0m\u001b[0mtext\u001b[0m\u001b[0;34m)\u001b[0m\u001b[0;34m\u001b[0m\u001b[0;34m\u001b[0m\u001b[0m\n",
            "\u001b[0;31mClientError\u001b[0m: (451, 0, \"Service unavailable from a restricted location according to 'b. Eligibility' in https://www.binance.com/en/terms. Please contact customer service if you believe you received this message in error.\", {'Server': 'CloudFront', 'Date': 'Thu, 01 Dec 2022 08:34:36 GMT', 'Content-Length': '224', 'Connection': 'keep-alive', 'Content-Type': 'application/json', 'X-Cache': 'Error from cloudfront', 'Via': '1.1 148f45d892bd2198be5295012ed59888.cloudfront.net (CloudFront)', 'X-Amz-Cf-Pop': 'IAD89-C1', 'X-Amz-Cf-Id': 'r6CUl5XSJMoiGBQNBDCUgfo6kRhBBBx2GXy5WpaKqQwiGYBgmeWLPQ=='})",
            "\nDuring handling of the above exception, another exception occurred:\n",
            "\u001b[0;31mNameError\u001b[0m                                 Traceback (most recent call last)",
            "\u001b[0;32m<ipython-input-29-c25df1525c21>\u001b[0m in \u001b[0;36m<module>\u001b[0;34m\u001b[0m\n\u001b[1;32m     13\u001b[0m \u001b[0;32mfor\u001b[0m \u001b[0mi\u001b[0m \u001b[0;32min\u001b[0m \u001b[0mbase\u001b[0m\u001b[0;34m:\u001b[0m\u001b[0;34m\u001b[0m\u001b[0;34m\u001b[0m\u001b[0m\n\u001b[1;32m     14\u001b[0m   \u001b[0;32mfor\u001b[0m \u001b[0mj\u001b[0m \u001b[0;32min\u001b[0m \u001b[0mbase\u001b[0m\u001b[0;34m[\u001b[0m\u001b[0mbase\u001b[0m\u001b[0;34m.\u001b[0m\u001b[0mindex\u001b[0m\u001b[0;34m(\u001b[0m\u001b[0mi\u001b[0m\u001b[0;34m)\u001b[0m\u001b[0;34m+\u001b[0m\u001b[0;36m1\u001b[0m\u001b[0;34m:\u001b[0m\u001b[0;34m]\u001b[0m\u001b[0;34m:\u001b[0m\u001b[0;34m\u001b[0m\u001b[0;34m\u001b[0m\u001b[0m\n\u001b[0;32m---> 15\u001b[0;31m     \u001b[0mspreadcheck\u001b[0m \u001b[0;34m=\u001b[0m \u001b[0madfuller\u001b[0m\u001b[0;34m(\u001b[0m\u001b[0;34m(\u001b[0m\u001b[0mklines4h\u001b[0m\u001b[0;34m(\u001b[0m\u001b[0mi\u001b[0m\u001b[0;34m)\u001b[0m\u001b[0;34m[\u001b[0m\u001b[0;34m'Close'\u001b[0m\u001b[0;34m]\u001b[0m\u001b[0;34m/\u001b[0m\u001b[0mklines4h\u001b[0m\u001b[0;34m(\u001b[0m\u001b[0mj\u001b[0m\u001b[0;34m)\u001b[0m\u001b[0;34m[\u001b[0m\u001b[0;34m'Close'\u001b[0m\u001b[0;34m]\u001b[0m\u001b[0;34m)\u001b[0m\u001b[0;34m.\u001b[0m\u001b[0mdropna\u001b[0m\u001b[0;34m(\u001b[0m\u001b[0;34m)\u001b[0m\u001b[0;34m,\u001b[0m \u001b[0mautolag\u001b[0m\u001b[0;34m=\u001b[0m\u001b[0;34m'AIC'\u001b[0m\u001b[0;34m)\u001b[0m\u001b[0;34m\u001b[0m\u001b[0;34m\u001b[0m\u001b[0m\n\u001b[0m\u001b[1;32m     16\u001b[0m     \u001b[0;32mif\u001b[0m \u001b[0mspreadcheck\u001b[0m\u001b[0;34m[\u001b[0m\u001b[0;36m1\u001b[0m\u001b[0;34m]\u001b[0m \u001b[0;34m<\u001b[0m \u001b[0;36m0.001\u001b[0m\u001b[0;34m:\u001b[0m\u001b[0;34m\u001b[0m\u001b[0;34m\u001b[0m\u001b[0m\n\u001b[1;32m     17\u001b[0m       \u001b[0mres\u001b[0m\u001b[0;34m.\u001b[0m\u001b[0mappend\u001b[0m\u001b[0;34m(\u001b[0m\u001b[0;34m[\u001b[0m\u001b[0mi\u001b[0m\u001b[0;34m,\u001b[0m \u001b[0mj\u001b[0m\u001b[0;34m,\u001b[0m \u001b[0mspreadcheck\u001b[0m\u001b[0;34m[\u001b[0m\u001b[0;36m0\u001b[0m\u001b[0;34m]\u001b[0m\u001b[0;34m,\u001b[0m \u001b[0mspreadcheck\u001b[0m\u001b[0;34m[\u001b[0m\u001b[0;36m1\u001b[0m\u001b[0;34m]\u001b[0m\u001b[0;34m]\u001b[0m\u001b[0;34m)\u001b[0m\u001b[0;34m\u001b[0m\u001b[0;34m\u001b[0m\u001b[0m\n",
            "\u001b[0;32m<ipython-input-5-4f4d19064973>\u001b[0m in \u001b[0;36mklines4h\u001b[0;34m(symbol)\u001b[0m\n\u001b[1;32m      2\u001b[0m   \u001b[0;32mtry\u001b[0m\u001b[0;34m:\u001b[0m\u001b[0;34m\u001b[0m\u001b[0;34m\u001b[0m\u001b[0m\n\u001b[1;32m      3\u001b[0m     \u001b[0mdf\u001b[0m \u001b[0;34m=\u001b[0m \u001b[0mpd\u001b[0m\u001b[0;34m.\u001b[0m\u001b[0mDataFrame\u001b[0m\u001b[0;34m(\u001b[0m\u001b[0mclient\u001b[0m\u001b[0;34m.\u001b[0m\u001b[0mklines\u001b[0m\u001b[0;34m(\u001b[0m\u001b[0msymbol\u001b[0m\u001b[0;34m,\u001b[0m \u001b[0;34m'4h'\u001b[0m\u001b[0;34m,\u001b[0m \u001b[0mlimit\u001b[0m \u001b[0;34m=\u001b[0m \u001b[0;36m180\u001b[0m\u001b[0;34m)\u001b[0m\u001b[0;34m)\u001b[0m\u001b[0;34m\u001b[0m\u001b[0;34m\u001b[0m\u001b[0m\n\u001b[0;32m----> 4\u001b[0;31m   \u001b[0;32mexcept\u001b[0m \u001b[0mBinanceAPIException\u001b[0m \u001b[0;32mas\u001b[0m \u001b[0me\u001b[0m\u001b[0;34m:\u001b[0m\u001b[0;34m\u001b[0m\u001b[0;34m\u001b[0m\u001b[0m\n\u001b[0m\u001b[1;32m      5\u001b[0m     \u001b[0mprint\u001b[0m\u001b[0;34m(\u001b[0m\u001b[0me\u001b[0m\u001b[0;34m)\u001b[0m\u001b[0;34m\u001b[0m\u001b[0;34m\u001b[0m\u001b[0m\n\u001b[1;32m      6\u001b[0m     \u001b[0msleep\u001b[0m\u001b[0;34m(\u001b[0m\u001b[0;36m60\u001b[0m\u001b[0;34m)\u001b[0m\u001b[0;34m\u001b[0m\u001b[0;34m\u001b[0m\u001b[0m\n",
            "\u001b[0;31mNameError\u001b[0m: name 'BinanceAPIException' is not defined"
          ]
        }
      ],
      "source": [
        "from statsmodels.tsa.stattools import adfuller\n",
        "base = ['BTCUSDT', 'ETHUSDT', 'BCHUSDT', 'XRPUSDT', 'EOSUSDT', 'LTCUSDT', 'TRXUSDT', 'ETCUSDT', 'LINKUSDT', 'XLMUSDT', 'ADAUSDT', 'XMRUSDT', 'DASHUSDT', 'ZECUSDT', 'XTZUSDT', \n",
        "        'BNBUSDT', 'ATOMUSDT', 'ONTUSDT', 'IOTAUSDT', 'BATUSDT', 'VETUSDT', 'NEOUSDT', 'QTUMUSDT', 'IOSTUSDT', 'THETAUSDT', 'ALGOUSDT', 'ZILUSDT', 'KNCUSDT', 'ZRXUSDT', \n",
        "        'COMPUSDT', 'OMGUSDT', 'DOGEUSDT', 'SXPUSDT', 'KAVAUSDT', 'BANDUSDT', 'RLCUSDT', 'WAVESUSDT', 'MKRUSDT', 'SNXUSDT', 'DOTUSDT', 'DEFIUSDT', 'YFIUSDT', 'BALUSDT', \n",
        "        'CRVUSDT', 'TRBUSDT', 'RUNEUSDT', 'SUSHIUSDT', 'SRMUSDT', 'EGLDUSDT', 'SOLUSDT', 'ICXUSDT', 'STORJUSDT', 'BLZUSDT', 'UNIUSDT', 'AVAXUSDT', 'FTMUSDT', 'HNTUSDT',\n",
        "        'ENJUSDT', 'FLMUSDT', 'TOMOUSDT', 'RENUSDT', 'KSMUSDT', 'NEARUSDT', 'AAVEUSDT', 'FILUSDT', 'RSRUSDT', 'LRCUSDT', 'MATICUSDT', 'OCEANUSDT', 'CVCUSDT', 'BELUSDT',\n",
        "        'CTKUSDT', 'AXSUSDT', 'ALPHAUSDT', 'ZENUSDT', 'SKLUSDT', 'GRTUSDT', '1INCHUSDT', 'CHZUSDT', 'SANDUSDT', 'ANKRUSDT', 'LITUSDT', 'UNFIUSDT', 'REEFUSDT', 'RVNUSDT',\n",
        "        'SFPUSDT', 'XEMUSDT', 'COTIUSDT', 'CHRUSDT', 'MANAUSDT', 'ALICEUSDT', 'HBARUSDT', 'ONEUSDT', 'LINAUSDT', 'STMXUSDT', 'DENTUSDT', 'CELRUSDT', 'HOTUSDT', 'MTLUSDT',\n",
        "        'OGNUSDT', 'NKNUSDT', 'DGBUSDT', 'BAKEUSDT', 'GTCUSDT', 'IOTXUSDT', 'AUDIOUSDT', 'RAYUSDT', 'C98USDT', 'MASKUSDT', 'ATAUSDT', 'DYDXUSDT', 'GALAUSDT', 'CELOUSDT',\n",
        "        'ARUSDT', 'KLAYUSDT', 'ARPAUSDT', 'CTSIUSDT', 'LPTUSDT', 'ENSUSDT', 'PEOPLEUSDT', 'ANTUSDT', 'ROSEUSDT', 'DUSKUSDT', 'FLOWUSDT', 'IMXUSDT', 'API3USDT', 'GMTUSDT',\n",
        "        'APEUSDT', 'BNXUSDT', 'WOOUSDT', 'FTTUSDT', 'JASMYUSDT', 'DARUSDT', 'GALUSDT']\n",
        "res = []\n",
        "for i in base:\n",
        "  for j in base[base.index(i)+1:]:\n",
        "    spreadcheck = adfuller((klines4h(i)['Close']/klines4h(j)['Close']).dropna(), autolag='AIC')\n",
        "    if spreadcheck[1] < 0.001:\n",
        "      res.append([i, j, spreadcheck[0], spreadcheck[1]])"
      ]
    },
    {
      "cell_type": "code",
      "execution_count": null,
      "metadata": {
        "colab": {
          "base_uri": "https://localhost:8080/",
          "height": 467
        },
        "id": "PY_TsAIQxjWi",
        "outputId": "d918b342-25fc-45d2-8181-9da18afc5e4b"
      },
      "outputs": [
        {
          "output_type": "error",
          "ename": "NameError",
          "evalue": "ignored",
          "traceback": [
            "\u001b[0;31m---------------------------------------------------------------------------\u001b[0m",
            "\u001b[0;31mClientError\u001b[0m                               Traceback (most recent call last)",
            "\u001b[0;32m<ipython-input-15-50f0962b3777>\u001b[0m in \u001b[0;36mklines1h\u001b[0;34m(symbol)\u001b[0m\n\u001b[1;32m      2\u001b[0m   \u001b[0;32mtry\u001b[0m\u001b[0;34m:\u001b[0m\u001b[0;34m\u001b[0m\u001b[0;34m\u001b[0m\u001b[0m\n\u001b[0;32m----> 3\u001b[0;31m     \u001b[0mdf\u001b[0m \u001b[0;34m=\u001b[0m \u001b[0mpd\u001b[0m\u001b[0;34m.\u001b[0m\u001b[0mDataFrame\u001b[0m\u001b[0;34m(\u001b[0m\u001b[0mclient\u001b[0m\u001b[0;34m.\u001b[0m\u001b[0mklines\u001b[0m\u001b[0;34m(\u001b[0m\u001b[0msymbol\u001b[0m\u001b[0;34m,\u001b[0m \u001b[0;34m'1h'\u001b[0m\u001b[0;34m,\u001b[0m \u001b[0mlimit\u001b[0m \u001b[0;34m=\u001b[0m \u001b[0;36m720\u001b[0m\u001b[0;34m)\u001b[0m\u001b[0;34m)\u001b[0m\u001b[0;34m\u001b[0m\u001b[0;34m\u001b[0m\u001b[0m\n\u001b[0m\u001b[1;32m      4\u001b[0m   \u001b[0;32mexcept\u001b[0m \u001b[0mBinanceAPIException\u001b[0m \u001b[0;32mas\u001b[0m \u001b[0me\u001b[0m\u001b[0;34m:\u001b[0m\u001b[0;34m\u001b[0m\u001b[0;34m\u001b[0m\u001b[0m\n",
            "\u001b[0;32m/usr/local/lib/python3.7/dist-packages/binance/um_futures/market.py\u001b[0m in \u001b[0;36mklines\u001b[0;34m(self, symbol, interval, **kwargs)\u001b[0m\n\u001b[1;32m    146\u001b[0m     \u001b[0mparams\u001b[0m \u001b[0;34m=\u001b[0m \u001b[0;34m{\u001b[0m\u001b[0;34m\"symbol\"\u001b[0m\u001b[0;34m:\u001b[0m \u001b[0msymbol\u001b[0m\u001b[0;34m,\u001b[0m \u001b[0;34m\"interval\"\u001b[0m\u001b[0;34m:\u001b[0m \u001b[0minterval\u001b[0m\u001b[0;34m,\u001b[0m \u001b[0;34m**\u001b[0m\u001b[0mkwargs\u001b[0m\u001b[0;34m}\u001b[0m\u001b[0;34m\u001b[0m\u001b[0;34m\u001b[0m\u001b[0m\n\u001b[0;32m--> 147\u001b[0;31m     \u001b[0;32mreturn\u001b[0m \u001b[0mself\u001b[0m\u001b[0;34m.\u001b[0m\u001b[0mquery\u001b[0m\u001b[0;34m(\u001b[0m\u001b[0;34m\"/fapi/v1/klines\"\u001b[0m\u001b[0;34m,\u001b[0m \u001b[0mparams\u001b[0m\u001b[0;34m)\u001b[0m\u001b[0;34m\u001b[0m\u001b[0;34m\u001b[0m\u001b[0m\n\u001b[0m\u001b[1;32m    148\u001b[0m \u001b[0;34m\u001b[0m\u001b[0m\n",
            "\u001b[0;32m/usr/local/lib/python3.7/dist-packages/binance/api.py\u001b[0m in \u001b[0;36mquery\u001b[0;34m(self, url_path, payload)\u001b[0m\n\u001b[1;32m     66\u001b[0m     \u001b[0;32mdef\u001b[0m \u001b[0mquery\u001b[0m\u001b[0;34m(\u001b[0m\u001b[0mself\u001b[0m\u001b[0;34m,\u001b[0m \u001b[0murl_path\u001b[0m\u001b[0;34m,\u001b[0m \u001b[0mpayload\u001b[0m\u001b[0;34m=\u001b[0m\u001b[0;32mNone\u001b[0m\u001b[0;34m)\u001b[0m\u001b[0;34m:\u001b[0m\u001b[0;34m\u001b[0m\u001b[0;34m\u001b[0m\u001b[0m\n\u001b[0;32m---> 67\u001b[0;31m         \u001b[0;32mreturn\u001b[0m \u001b[0mself\u001b[0m\u001b[0;34m.\u001b[0m\u001b[0msend_request\u001b[0m\u001b[0;34m(\u001b[0m\u001b[0;34m\"GET\"\u001b[0m\u001b[0;34m,\u001b[0m \u001b[0murl_path\u001b[0m\u001b[0;34m,\u001b[0m \u001b[0mpayload\u001b[0m\u001b[0;34m=\u001b[0m\u001b[0mpayload\u001b[0m\u001b[0;34m)\u001b[0m\u001b[0;34m\u001b[0m\u001b[0;34m\u001b[0m\u001b[0m\n\u001b[0m\u001b[1;32m     68\u001b[0m \u001b[0;34m\u001b[0m\u001b[0m\n",
            "\u001b[0;32m/usr/local/lib/python3.7/dist-packages/binance/api.py\u001b[0m in \u001b[0;36msend_request\u001b[0;34m(self, http_method, url_path, payload, special)\u001b[0m\n\u001b[1;32m    115\u001b[0m         \u001b[0mlogging\u001b[0m\u001b[0;34m.\u001b[0m\u001b[0mdebug\u001b[0m\u001b[0;34m(\u001b[0m\u001b[0;34m\"raw response from server:\"\u001b[0m \u001b[0;34m+\u001b[0m \u001b[0mresponse\u001b[0m\u001b[0;34m.\u001b[0m\u001b[0mtext\u001b[0m\u001b[0;34m)\u001b[0m\u001b[0;34m\u001b[0m\u001b[0;34m\u001b[0m\u001b[0m\n\u001b[0;32m--> 116\u001b[0;31m         \u001b[0mself\u001b[0m\u001b[0;34m.\u001b[0m\u001b[0m_handle_exception\u001b[0m\u001b[0;34m(\u001b[0m\u001b[0mresponse\u001b[0m\u001b[0;34m)\u001b[0m\u001b[0;34m\u001b[0m\u001b[0;34m\u001b[0m\u001b[0m\n\u001b[0m\u001b[1;32m    117\u001b[0m \u001b[0;34m\u001b[0m\u001b[0m\n",
            "\u001b[0;32m/usr/local/lib/python3.7/dist-packages/binance/api.py\u001b[0m in \u001b[0;36m_handle_exception\u001b[0;34m(self, response)\u001b[0m\n\u001b[1;32m    168\u001b[0m                 \u001b[0;32mraise\u001b[0m \u001b[0mClientError\u001b[0m\u001b[0;34m(\u001b[0m\u001b[0mstatus_code\u001b[0m\u001b[0;34m,\u001b[0m \u001b[0;32mNone\u001b[0m\u001b[0;34m,\u001b[0m \u001b[0mresponse\u001b[0m\u001b[0;34m.\u001b[0m\u001b[0mtext\u001b[0m\u001b[0;34m,\u001b[0m \u001b[0mresponse\u001b[0m\u001b[0;34m.\u001b[0m\u001b[0mheaders\u001b[0m\u001b[0;34m)\u001b[0m\u001b[0;34m\u001b[0m\u001b[0;34m\u001b[0m\u001b[0m\n\u001b[0;32m--> 169\u001b[0;31m             \u001b[0;32mraise\u001b[0m \u001b[0mClientError\u001b[0m\u001b[0;34m(\u001b[0m\u001b[0mstatus_code\u001b[0m\u001b[0;34m,\u001b[0m \u001b[0merr\u001b[0m\u001b[0;34m[\u001b[0m\u001b[0;34m\"code\"\u001b[0m\u001b[0;34m]\u001b[0m\u001b[0;34m,\u001b[0m \u001b[0merr\u001b[0m\u001b[0;34m[\u001b[0m\u001b[0;34m\"msg\"\u001b[0m\u001b[0;34m]\u001b[0m\u001b[0;34m,\u001b[0m \u001b[0mresponse\u001b[0m\u001b[0;34m.\u001b[0m\u001b[0mheaders\u001b[0m\u001b[0;34m)\u001b[0m\u001b[0;34m\u001b[0m\u001b[0;34m\u001b[0m\u001b[0m\n\u001b[0m\u001b[1;32m    170\u001b[0m         \u001b[0;32mraise\u001b[0m \u001b[0mServerError\u001b[0m\u001b[0;34m(\u001b[0m\u001b[0mstatus_code\u001b[0m\u001b[0;34m,\u001b[0m \u001b[0mresponse\u001b[0m\u001b[0;34m.\u001b[0m\u001b[0mtext\u001b[0m\u001b[0;34m)\u001b[0m\u001b[0;34m\u001b[0m\u001b[0;34m\u001b[0m\u001b[0m\n",
            "\u001b[0;31mClientError\u001b[0m: (451, 0, \"Service unavailable from a restricted location according to 'b. Eligibility' in https://www.binance.com/en/terms. Please contact customer service if you believe you received this message in error.\", {'Server': 'CloudFront', 'Date': 'Mon, 28 Nov 2022 07:13:38 GMT', 'Content-Length': '224', 'Connection': 'keep-alive', 'Content-Type': 'application/json', 'X-Cache': 'Error from cloudfront', 'Via': '1.1 9c1e51085ad77fbbab78fe2feb46cf98.cloudfront.net (CloudFront)', 'X-Amz-Cf-Pop': 'MIA3-C2', 'X-Amz-Cf-Id': '34caxYeDydlWsheD2zorY9R4Lfc6SvGqOnOo5pGro3Xww9GKIZXVFw=='})",
            "\nDuring handling of the above exception, another exception occurred:\n",
            "\u001b[0;31mNameError\u001b[0m                                 Traceback (most recent call last)",
            "\u001b[0;32m<ipython-input-22-f66af4571208>\u001b[0m in \u001b[0;36m<module>\u001b[0;34m\u001b[0m\n\u001b[0;32m----> 1\u001b[0;31m \u001b[0madfuller\u001b[0m\u001b[0;34m(\u001b[0m\u001b[0;34m(\u001b[0m\u001b[0mklines1h\u001b[0m\u001b[0;34m(\u001b[0m\u001b[0;34m'blzusdt'\u001b[0m\u001b[0;34m)\u001b[0m\u001b[0;34m[\u001b[0m\u001b[0;34m'Close'\u001b[0m\u001b[0;34m]\u001b[0m\u001b[0;34m/\u001b[0m\u001b[0mklines1h\u001b[0m\u001b[0;34m(\u001b[0m\u001b[0;34m'ankrusdt'\u001b[0m\u001b[0;34m)\u001b[0m\u001b[0;34m[\u001b[0m\u001b[0;34m'Close'\u001b[0m\u001b[0;34m]\u001b[0m\u001b[0;34m)\u001b[0m\u001b[0;34m.\u001b[0m\u001b[0mdropna\u001b[0m\u001b[0;34m(\u001b[0m\u001b[0;34m)\u001b[0m\u001b[0;34m,\u001b[0m \u001b[0mautolag\u001b[0m\u001b[0;34m=\u001b[0m\u001b[0;34m'AIC'\u001b[0m\u001b[0;34m)\u001b[0m\u001b[0;34m\u001b[0m\u001b[0;34m\u001b[0m\u001b[0m\n\u001b[0m",
            "\u001b[0;32m<ipython-input-15-50f0962b3777>\u001b[0m in \u001b[0;36mklines1h\u001b[0;34m(symbol)\u001b[0m\n\u001b[1;32m      2\u001b[0m   \u001b[0;32mtry\u001b[0m\u001b[0;34m:\u001b[0m\u001b[0;34m\u001b[0m\u001b[0;34m\u001b[0m\u001b[0m\n\u001b[1;32m      3\u001b[0m     \u001b[0mdf\u001b[0m \u001b[0;34m=\u001b[0m \u001b[0mpd\u001b[0m\u001b[0;34m.\u001b[0m\u001b[0mDataFrame\u001b[0m\u001b[0;34m(\u001b[0m\u001b[0mclient\u001b[0m\u001b[0;34m.\u001b[0m\u001b[0mklines\u001b[0m\u001b[0;34m(\u001b[0m\u001b[0msymbol\u001b[0m\u001b[0;34m,\u001b[0m \u001b[0;34m'1h'\u001b[0m\u001b[0;34m,\u001b[0m \u001b[0mlimit\u001b[0m \u001b[0;34m=\u001b[0m \u001b[0;36m720\u001b[0m\u001b[0;34m)\u001b[0m\u001b[0;34m)\u001b[0m\u001b[0;34m\u001b[0m\u001b[0;34m\u001b[0m\u001b[0m\n\u001b[0;32m----> 4\u001b[0;31m   \u001b[0;32mexcept\u001b[0m \u001b[0mBinanceAPIException\u001b[0m \u001b[0;32mas\u001b[0m \u001b[0me\u001b[0m\u001b[0;34m:\u001b[0m\u001b[0;34m\u001b[0m\u001b[0;34m\u001b[0m\u001b[0m\n\u001b[0m\u001b[1;32m      5\u001b[0m     \u001b[0mprint\u001b[0m\u001b[0;34m(\u001b[0m\u001b[0me\u001b[0m\u001b[0;34m)\u001b[0m\u001b[0;34m\u001b[0m\u001b[0;34m\u001b[0m\u001b[0m\n\u001b[1;32m      6\u001b[0m     \u001b[0msleep\u001b[0m\u001b[0;34m(\u001b[0m\u001b[0;36m60\u001b[0m\u001b[0;34m)\u001b[0m\u001b[0;34m\u001b[0m\u001b[0;34m\u001b[0m\u001b[0m\n",
            "\u001b[0;31mNameError\u001b[0m: name 'BinanceAPIException' is not defined"
          ]
        }
      ],
      "source": [
        "adfuller((klines1h('blzusdt')['Close']/klines1h('ankrusdt')['Close']).dropna(), autolag='AIC')"
      ]
    },
    {
      "cell_type": "code",
      "execution_count": null,
      "metadata": {
        "id": "Le0k-wube6ld"
      },
      "outputs": [],
      "source": [
        "def PValue(inputList):\n",
        "        return inputList[3]\n",
        "res = sorted(res, key=PValue)"
      ]
    },
    {
      "cell_type": "code",
      "execution_count": null,
      "metadata": {
        "colab": {
          "base_uri": "https://localhost:8080/"
        },
        "id": "h6J35z4jd97R",
        "outputId": "4d9e9bd9-44b5-46eb-8ada-102684fb10d9"
      },
      "outputs": [
        {
          "output_type": "execute_result",
          "data": {
            "text/plain": [
              "[['UNFIUSDT', 'JASMYUSDT', -5.7830124572934265, 5.074210626699941e-07],\n",
              " ['TOMOUSDT', 'JASMYUSDT', -5.404822751353745, 3.3090905389303556e-06],\n",
              " ['AAVEUSDT', 'OGNUSDT', -5.3585003023808015, 4.13769309550873e-06],\n",
              " ['LINAUSDT', 'JASMYUSDT', -5.329255559030222, 4.7611340681513076e-06],\n",
              " ['BELUSDT', 'MTLUSDT', -5.126603947366617, 1.2391152873923473e-05],\n",
              " ['ZRXUSDT', 'BELUSDT', -5.032725903336299, 1.9110831375201794e-05],\n",
              " ['CHRUSDT', 'JASMYUSDT', -4.881961692967636, 3.780626327158633e-05],\n",
              " ['BLZUSDT', 'ANKRUSDT', -4.862321543653609, 4.1267813907870317e-05],\n",
              " ['IMXUSDT', 'JASMYUSDT', -4.855050845313627, 4.2624952546469894e-05],\n",
              " ['STMXUSDT', 'JASMYUSDT', -4.841918676771647, 4.5185618873376315e-05],\n",
              " ['CTSIUSDT', 'LPTUSDT', -4.681881600088741, 9.100115016916473e-05],\n",
              " ['IOSTUSDT', 'HOTUSDT', -4.678708312767339, 9.225418793282418e-05],\n",
              " ['FLMUSDT', 'JASMYUSDT', -4.675095668483197, 9.370080234347721e-05],\n",
              " ['UNFIUSDT', 'BAKEUSDT', -4.643776095644372, 0.00010718449154448485],\n",
              " ['CELRUSDT', 'LPTUSDT', -4.6312670480618525, 0.0001130721058461821],\n",
              " ['ALICEUSDT', 'BAKEUSDT', -4.615016857580464, 0.00012118295754651775],\n",
              " ['OMGUSDT', 'IMXUSDT', -4.578894581161105, 0.00014124769484988287],\n",
              " ['EOSUSDT', 'HBARUSDT', -4.566501919797132, 0.0001488337876587927],\n",
              " ['1INCHUSDT', 'XEMUSDT', -4.552614730549108, 0.00015779593015039777],\n",
              " ['OGNUSDT', 'IMXUSDT', -4.551068196291466, 0.0001588252276980158],\n",
              " ['SNXUSDT', 'JASMYUSDT', -4.547830963882611, 0.000161000518215038],\n",
              " ['ALPHAUSDT', 'LINAUSDT', -4.517214521233363, 0.00018302579484938332],\n",
              " ['RVNUSDT', 'JASMYUSDT', -4.481173789000795, 0.0002126295798479524],\n",
              " ['HOTUSDT', 'DGBUSDT', -4.466337962477413, 0.00022609304976175406],\n",
              " ['SNXUSDT', 'OGNUSDT', -4.460472717624658, 0.00023163597270305162],\n",
              " ['KNCUSDT', 'JASMYUSDT', -4.458655976522921, 0.0002333788969464503],\n",
              " ['WOOUSDT', 'JASMYUSDT', -4.457648364394968, 0.0002343509311764192],\n",
              " ['ALPHAUSDT', 'JASMYUSDT', -4.442256729541255, 0.00024968552828586723],\n",
              " ['DARUSDT', 'GALUSDT', -4.428945314482515, 0.0002637112393062628],\n",
              " ['ZRXUSDT', 'BAKEUSDT', -4.420569793544496, 0.00027291595343557126],\n",
              " ['WAVESUSDT', 'OGNUSDT', -4.415158111403009, 0.000279024601568712],\n",
              " ['ATAUSDT', 'GALUSDT', -4.414452811629264, 0.00027983022207511525],\n",
              " ['DEFIUSDT', 'CHRUSDT', -4.404716857496433, 0.0002911788433632415],\n",
              " ['ALICEUSDT', 'JASMYUSDT', -4.401807173567901, 0.00029465429798977575],\n",
              " ['BLZUSDT', 'JASMYUSDT', -4.388220770371674, 0.00031140941040279374],\n",
              " ['ZRXUSDT', 'JASMYUSDT', -4.383199785108641, 0.0003178268321317134],\n",
              " ['FILUSDT', 'DENTUSDT', -4.3829079684381975, 0.0003182036348670036],\n",
              " ['AUDIOUSDT', 'IMXUSDT', -4.374113446977685, 0.00032975996164597097],\n",
              " ['FLOWUSDT', 'JASMYUSDT', -4.366427116958832, 0.00034018449076746567],\n",
              " ['ONTUSDT', 'HOTUSDT', -4.358854979731603, 0.0003507586460182691],\n",
              " ['SUSHIUSDT', 'JASMYUSDT', -4.34981121824793, 0.0003637955232608942],\n",
              " ['HOTUSDT', 'ARPAUSDT', -4.310677603516712, 0.00042567527246628237],\n",
              " ['SXPUSDT', 'JASMYUSDT', -4.293841197011644, 0.0004552484173253195],\n",
              " ['OMGUSDT', 'JASMYUSDT', -4.233671724212486, 0.0005775628882263485],\n",
              " ['ZRXUSDT', 'STORJUSDT', -4.2311616963968275, 0.000583283977003482],\n",
              " ['DEFIUSDT', 'JASMYUSDT', -4.223679820851131, 0.0006006555667964699],\n",
              " ['ONEUSDT', 'IMXUSDT', -4.213185092659611, 0.0006258444919144816],\n",
              " ['SNXUSDT', 'DUSKUSDT', -4.207931932531428, 0.0006388229592654367],\n",
              " ['SUSHIUSDT', 'AXSUSDT', -4.150901537729702, 0.0007969929159457525],\n",
              " ['AXSUSDT', 'JASMYUSDT', -4.145058435984175, 0.0008151263883584707],\n",
              " ['ONEUSDT', 'JASMYUSDT', -4.143375106740359, 0.0008204218022059794],\n",
              " ['FTMUSDT', 'CTSIUSDT', -4.130080636964267, 0.0008633914721373458],\n",
              " ['AVAXUSDT', 'JASMYUSDT', -4.119691649850185, 0.0008984290621593951],\n",
              " ['MTLUSDT', 'JASMYUSDT', -4.115482510414948, 0.0009130003385835536]]"
            ]
          },
          "metadata": {},
          "execution_count": 18
        }
      ],
      "source": [
        "ans = []\n",
        "for i in res:\n",
        "  if adfuller((klines1h(i[0])['Close']/klines1h(i[1])['Close']), autolag='AIC')[1] < 0.001:\n",
        "    ans.append(i)\n",
        "ans"
      ]
    },
    {
      "cell_type": "code",
      "execution_count": null,
      "metadata": {
        "colab": {
          "base_uri": "https://localhost:8080/"
        },
        "id": "dUBD9OLdWQ5j",
        "outputId": "0a29db36-37ca-41fa-eacf-743cc4e5e463"
      },
      "outputs": [
        {
          "output_type": "stream",
          "name": "stdout",
          "text": [
            "UNFIUSDT/JASMYUSDT\n",
            "TOMOUSDT/JASMYUSDT\n",
            "AAVEUSDT/OGNUSDT\n",
            "LINAUSDT/JASMYUSDT\n",
            "BELUSDT/MTLUSDT\n",
            "ZRXUSDT/BELUSDT\n",
            "CHRUSDT/JASMYUSDT\n",
            "BLZUSDT/ANKRUSDT\n",
            "IMXUSDT/JASMYUSDT\n",
            "STMXUSDT/JASMYUSDT\n",
            "CTSIUSDT/LPTUSDT\n",
            "IOSTUSDT/HOTUSDT\n",
            "FLMUSDT/JASMYUSDT\n",
            "UNFIUSDT/BAKEUSDT\n",
            "CELRUSDT/LPTUSDT\n",
            "ALICEUSDT/BAKEUSDT\n",
            "OMGUSDT/IMXUSDT\n",
            "EOSUSDT/HBARUSDT\n",
            "1INCHUSDT/XEMUSDT\n",
            "OGNUSDT/IMXUSDT\n",
            "SNXUSDT/JASMYUSDT\n",
            "ALPHAUSDT/LINAUSDT\n",
            "RVNUSDT/JASMYUSDT\n",
            "HOTUSDT/DGBUSDT\n",
            "SNXUSDT/OGNUSDT\n",
            "KNCUSDT/JASMYUSDT\n",
            "WOOUSDT/JASMYUSDT\n",
            "ALPHAUSDT/JASMYUSDT\n",
            "DARUSDT/GALUSDT\n",
            "ZRXUSDT/BAKEUSDT\n",
            "WAVESUSDT/OGNUSDT\n",
            "ATAUSDT/GALUSDT\n",
            "DEFIUSDT/CHRUSDT\n",
            "ALICEUSDT/JASMYUSDT\n",
            "BLZUSDT/JASMYUSDT\n",
            "ZRXUSDT/JASMYUSDT\n",
            "FILUSDT/DENTUSDT\n",
            "AUDIOUSDT/IMXUSDT\n",
            "FLOWUSDT/JASMYUSDT\n",
            "ONTUSDT/HOTUSDT\n",
            "SUSHIUSDT/JASMYUSDT\n",
            "HOTUSDT/ARPAUSDT\n",
            "SXPUSDT/JASMYUSDT\n",
            "OMGUSDT/JASMYUSDT\n",
            "ZRXUSDT/STORJUSDT\n",
            "DEFIUSDT/JASMYUSDT\n",
            "ONEUSDT/IMXUSDT\n",
            "SNXUSDT/DUSKUSDT\n",
            "SUSHIUSDT/AXSUSDT\n",
            "AXSUSDT/JASMYUSDT\n",
            "ONEUSDT/JASMYUSDT\n",
            "FTMUSDT/CTSIUSDT\n",
            "AVAXUSDT/JASMYUSDT\n",
            "MTLUSDT/JASMYUSDT\n"
          ]
        }
      ],
      "source": [
        "def str_change(arr):\n",
        "  return arr[0] + \"/\" + arr[1];\n",
        "result = \"\\n\".join(list(map(str_change, ans)));\n",
        "print(result)\n"
      ]
    }
  ],
  "metadata": {
    "colab": {
      "provenance": []
    },
    "kernelspec": {
      "display_name": "Python 3",
      "name": "python3"
    },
    "language_info": {
      "name": "python"
    }
  },
  "nbformat": 4,
  "nbformat_minor": 0
}